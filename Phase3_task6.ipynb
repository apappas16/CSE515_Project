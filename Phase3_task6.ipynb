{
 "cells": [
  {
   "cell_type": "code",
   "execution_count": 10,
   "metadata": {},
   "outputs": [
    {
     "name": "stdout",
     "output_type": "stream",
     "text": [
      "Please enter the gesture file you would like to compare (ex: 1.csv, or exit for termination): 4.csv\n",
      "Please enter the relevence technique you would like (enter probabilistic or classifier_based): probabilistic\n",
      "Please enter the number of results you would like to recieve: (ex: 5): 3\n",
      "Would you like to provide feedback to improve your query output? (enter Y/N): Y\n",
      "Enter the irrelevent results in a list (ex: 1.csv 3.csv 4.csv): 2.csv 60.csv 54.csv\n",
      "Enter the relevent results in a list (ex: 2.csv 5.csv): \n",
      "['2.csv', '60.csv', '54.csv']\n",
      "['']\n",
      "Would you like to provide feedback to improve your query output? (enter Y/N): N\n",
      "Please enter the gesture file you would like to compare (ex: 1.csv, or exit for termination): exit\n"
     ]
    }
   ],
   "source": [
    "\n",
    "\n",
    "# task 6\n",
    "# requests the irrelevent results and produces a new query output based on those results.\n",
    "# calls again for more feedback if requested\n",
    "def feedbackInterface(taskNum):\n",
    "    irrelevent = input(\"Enter the irrelevent results in a list (ex: 1.csv 3.csv 4.csv): \")\n",
    "    relevent = input(\"Enter the relevent results in a list (ex: 2.csv 5.csv): \")\n",
    "    \n",
    "    #convert strings to lists\n",
    "    irrlist = list(irrelevent.split(\" \"))\n",
    "    rlist = list(relevent.split(\" \"))\n",
    "    \n",
    "    if taskNum == \"probabilistic\":\n",
    "        #call feedback function for task 4\n",
    "        #parameters: list of irrelevent results, list of relevent results, original guesture file\n",
    "        \n",
    "        feedback = input(\"Would you like to provide feedback to improve your query output? (enter Y/N): \")\n",
    "        if feedback == \"Y\":\n",
    "            feedbackInterface(taskNum)\n",
    "        \n",
    "    elif taskNum == \"classifier_based\":\n",
    "        #call feedback function for task 5\n",
    "        #parameters: list of irrelevent results, list of relevent results, original guesture file\n",
    "        \n",
    "        feedback = input(\"Would you like to provide feedback to improve your query output? (enter Y/N): \")\n",
    "        if feedback == \"Y\":\n",
    "            feedbackInterface(taskNum)\n",
    "            \n",
    "# starting interface\n",
    "run = True\n",
    "while run == True:\n",
    "    gestfile = input(\"Please enter the gesture file you would like to compare (ex: 1.csv, or exit for termination): \")\n",
    "    \n",
    "    #exit loop\n",
    "    if gestfile == \"exit\":\n",
    "        run = False\n",
    "        break\n",
    "\n",
    "    taskNum = input(\"Please enter the relevence technique you would like (enter probabilistic or classifier_based): \")\n",
    "    resultNum = input(\"Please enter the number of results you would like to recieve: (ex: 5): \")\n",
    "    \n",
    "    #call task 4 or 5 here:\n",
    "    if taskNum == \"probabilistic\":\n",
    "        #call task 4\n",
    "        #parameters: guesture file to find comparisons, number of results\n",
    "        \n",
    "        feedback = input(\"Would you like to provide feedback to improve your query output? (enter Y/N): \")\n",
    "        if feedback == \"Y\":\n",
    "            feedbackInterface(taskNum)\n",
    "        \n",
    "    elif taskNum == \"classifier_based\":\n",
    "        #call task 5\n",
    "        #parameters: guesture file to find comparisons, number of results\n",
    "        \n",
    "        feedback = input(\"Would you like to provide feedback to improve your query output? (enter Y/N): \")\n",
    "        if feedback == \"Y\":\n",
    "            feedbackInterface(taskNum)\n",
    "  \n",
    "        "
   ]
  }
 ],
 "metadata": {
  "kernelspec": {
   "display_name": "Python 3",
   "language": "python",
   "name": "python3"
  },
  "language_info": {
   "codemirror_mode": {
    "name": "ipython",
    "version": 3
   },
   "file_extension": ".py",
   "mimetype": "text/x-python",
   "name": "python",
   "nbconvert_exporter": "python",
   "pygments_lexer": "ipython3",
   "version": "3.7.1"
  }
 },
 "nbformat": 4,
 "nbformat_minor": 2
}
